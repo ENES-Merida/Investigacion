{
 "cells": [
  {
   "cell_type": "code",
   "execution_count": 1,
   "metadata": {},
   "outputs": [],
   "source": [
    "import numpy as np\n",
    "from scipy.sparse import csr_matrix\n",
    "from scipy.sparse.linalg import splu"
   ]
  },
  {
   "cell_type": "code",
   "execution_count": 2,
   "metadata": {},
   "outputs": [],
   "source": [
    "mi = 6\n",
    "nj  = 5\n",
    "\n",
    "# Initialize matrices with zeros\n",
    "BI = np.zeros((nj, mi))\n",
    "AI = np.zeros((mi, nj))\n",
    "AC = np.zeros((mi, nj))\n",
    "AD = np.zeros((mi, nj))\n",
    "BD = np.zeros((nj, mi))\n",
    "\n",
    "rows = (mi - 2) * (nj - 2)\n",
    "columns = (mi - 2) * (nj - 2)\n",
    "A = np.zeros((rows, columns))\n",
    "\n",
    "# Define other parameters\n",
    "delta_x = 1.0 / (mi - 1)\n",
    "delta_y = 1.0 / (nj - 1)\n",
    "cond_ter = 100.0\n",
    "temp_ini = 308.0\n",
    "temp_fin = 298.0\n",
    "flux_aba = 308.0\n",
    "flux_arr = 308.0"
   ]
  },
  {
   "cell_type": "code",
   "execution_count": 3,
   "metadata": {},
   "outputs": [],
   "source": [
    "def ensambla_tdmax(AI, AC, AD, deltax, deltay, cond_ter, temp_ini, temp_fin, jj):\n",
    "    # Ensure AI, AC, AD are numpy arrays for efficient numerical operations\n",
    "\n",
    "    # Define boundary conditions\n",
    "    AI[0, jj] = -temp_ini * cond_ter / (deltax * deltax)\n",
    "    AD[mi - 1, jj] = -temp_fin * cond_ter / (deltax * deltax)\n",
    "\n",
    "    # Assemble the tridiagonal matrix and the result vector\n",
    "    for iin in range(1, mi - 1):\n",
    "        AI[iin, jj] = -1.0 * cond_ter / (deltax * deltax)\n",
    "        AC[iin, jj] = 2.0 * cond_ter * (1.0 / (deltax * deltax) + 1.0 / (deltay * deltay))\n",
    "        AD[iin, jj] = -1.0 * cond_ter / (deltax * deltax)"
   ]
  },
  {
   "cell_type": "code",
   "execution_count": 4,
   "metadata": {},
   "outputs": [],
   "source": [
    "def ensambla_tdmay(BI, BD, deltax, deltay, cond_ter, flux_aba, flux_arr, ii):\n",
    "    # Ensure BI and BD are numpy arrays for efficient numerical operations\n",
    "\n",
    "    # Define boundary conditions\n",
    "    BI[0, ii] = -flux_aba * cond_ter / (deltay * deltay)\n",
    "    BD[nj - 1, ii] = -flux_arr * cond_ter / (deltay * deltay)\n",
    "\n",
    "    # Assemble the tridiagonal matrix and the result vector\n",
    "    for jjn in range(1, nj - 1):  # Loop from 1 to nj-2\n",
    "        BI[jjn, ii] = -1.0 * cond_ter / (deltay * deltay)\n",
    "        BD[jjn, ii] = -1.0 * cond_ter / (deltay * deltay)"
   ]
  },
  {
   "cell_type": "code",
   "execution_count": 5,
   "metadata": {},
   "outputs": [],
   "source": [
    "def build_global_matrix(A, BI, AI, AC, AD, BD):\n",
    "    for ii in range(1, mi - 1):\n",
    "\n",
    "        for jj in range(1, nj - 1):\n",
    "\n",
    "            if jj >= 2 and jj < nj - 1:\n",
    "                A[ii - 1, jj + nj - 3] = BI[jj - 1, ii]\n",
    "            \n",
    "            if ii >= 2 and ii < mi - 1:\n",
    "                A[ii - 1, jj - 2] = AI[ii - 1, jj]\n",
    "\n",
    "            A[ii - 1, jj - 1] = AC[ii, jj]\n",
    "\n",
    "            if (ii >= 1 and ii < mi - 2):\n",
    "                A[ii - 1, jj] = AD[ii + 1, jj]\n",
    "            \n",
    "            if (jj >= 1 and jj < nj - 2):\n",
    "                A[ii - 1, jj - nj - 1] = BD[jj + 1, ii]"
   ]
  },
  {
   "cell_type": "code",
   "execution_count": 12,
   "metadata": {},
   "outputs": [],
   "source": [
    "# Call the function\n",
    "for jj in range(1, nj - 1):\n",
    "    ensambla_tdmax(AI, AC, AD, delta_x, delta_y, cond_ter, temp_ini, temp_fin, jj)\n",
    "\n",
    "for ii in range(1, mi - 1):\n",
    "    ensambla_tdmay(BI, BD, delta_x, delta_y, cond_ter, flux_aba, flux_arr, ii)\n",
    "\n",
    "# build_global_matrix(A, BI, AI, AC, AD, BD)\n",
    "# print(BI)\n",
    "# print(AI)\n",
    "# print(AC)\n",
    "# print(AD)\n",
    "# print(BD)\n",
    "# print(A)"
   ]
  }
 ],
 "metadata": {
  "kernelspec": {
   "display_name": "Python 3",
   "language": "python",
   "name": "python3"
  },
  "language_info": {
   "codemirror_mode": {
    "name": "ipython",
    "version": 3
   },
   "file_extension": ".py",
   "mimetype": "text/x-python",
   "name": "python",
   "nbconvert_exporter": "python",
   "pygments_lexer": "ipython3",
   "version": "3.11.7"
  }
 },
 "nbformat": 4,
 "nbformat_minor": 2
}
